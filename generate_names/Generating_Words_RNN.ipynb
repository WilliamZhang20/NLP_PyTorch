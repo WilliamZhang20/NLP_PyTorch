{
  "nbformat": 4,
  "nbformat_minor": 0,
  "metadata": {
    "colab": {
      "provenance": [],
      "gpuType": "T4"
    },
    "kernelspec": {
      "name": "python3",
      "display_name": "Python 3"
    },
    "language_info": {
      "name": "python"
    },
    "accelerator": "GPU"
  },
  "cells": [
    {
      "cell_type": "code",
      "execution_count": 1,
      "metadata": {
        "colab": {
          "base_uri": "https://localhost:8080/"
        },
        "id": "3AqafX-fWozc",
        "outputId": "e3df56b2-2680-453d-8d14-cc0ef6cf3e52"
      },
      "outputs": [
        {
          "output_type": "stream",
          "name": "stdout",
          "text": [
            "Mounted at /content/drive\n"
          ]
        }
      ],
      "source": [
        "from google.colab import drive\n",
        "drive.mount('/content/drive')"
      ]
    },
    {
      "cell_type": "code",
      "source": [
        "# retrieve data\n",
        "from io import open\n",
        "import glob\n",
        "import os\n",
        "import unicodedata\n",
        "import string\n",
        "\n",
        "all_letters = string.ascii_letters + \" .,;'-\"\n",
        "n_letters = len(all_letters) + 1 # plus EOS marker\n",
        "\n",
        "def findFiles(path): return glob.glob(path)\n",
        "\n",
        "# Turn unicode to plain ascii\n",
        "def unicodeToAscii(s):\n",
        "    return ''.join(\n",
        "        c for c in unicodedata.normalize('NFD', s)\n",
        "        if unicodedata.category(c) != 'Mn'\n",
        "        and c in all_letters\n",
        "    )\n",
        "\n",
        "# read a file and split liens\n",
        "def readLines(filename):\n",
        "    with open(filename, encoding='utf-8') as some_file:\n",
        "        return [unicodeToAscii(line.strip()) for line in some_file]\n",
        "\n",
        "# build category_lines dictionary\n",
        "category_lines = {}\n",
        "all_categories = []\n",
        "for filename in findFiles('/content/drive/My Drive/AI_and_ML/data/names/*.txt'):\n",
        "    category = os.path.splitext(os.path.basename(filename))[0]\n",
        "    all_categories.append(category)\n",
        "    lines = readLines(filename)\n",
        "    category_lines[category] = lines\n",
        "\n",
        "n_categories = len(all_categories)\n",
        "\n",
        "if n_categories == 0:\n",
        "    raise RuntimeError('Data not found')\n",
        "\n",
        "print('# categories:', n_categories, all_categories)\n",
        "print(unicodeToAscii(\"O'Néàl\"))"
      ],
      "metadata": {
        "id": "eGphnczdlBI6",
        "colab": {
          "base_uri": "https://localhost:8080/"
        },
        "outputId": "1a3f35f1-150c-45c2-8c92-5a2593d842a8"
      },
      "execution_count": 2,
      "outputs": [
        {
          "output_type": "stream",
          "name": "stdout",
          "text": [
            "# categories: 18 ['Russian', 'French', 'Dutch', 'Scottish', 'Japanese', 'German', 'Vietnamese', 'Spanish', 'Portuguese', 'Italian', 'Korean', 'Czech', 'Greek', 'Chinese', 'Arabic', 'English', 'Polish', 'Irish']\n",
            "O'Neal\n"
          ]
        }
      ]
    },
    {
      "cell_type": "markdown",
      "source": [
        "The RNN used to generate the words is defined below. It has 3 layers.\n",
        "\n",
        "1. The first (input to hidden) computes the new hidden weights from the input state, category, and previous hidden state combined together.\n",
        "2. The second layer (input to output) produces the output state from the input, category, and previous hidden state.\n",
        "3. The third layer (output to output) refines the output from the concatenated result of the previous two layers, which are the hidden and output.\n",
        "\n",
        "At the end, it also includes a dropout layer and softmax normalization."
      ],
      "metadata": {
        "id": "k8hTEeLoxrAx"
      }
    },
    {
      "cell_type": "code",
      "source": [
        "import torch\n",
        "import torch.nn as nn\n",
        "\n",
        "class RNN(nn.Module):\n",
        "    def __init__(self, input_size, hidden_size, output_size):\n",
        "        super(RNN, self).__init__()\n",
        "        self.hidden_size = hidden_size\n",
        "\n",
        "        self.i2h = nn.Linear(n_categories + input_size + hidden_size, hidden_size)\n",
        "        self.i2o = nn.Linear(n_categories + input_size + hidden_size, output_size)\n",
        "        self.o2o = nn.Linear(hidden_size + output_size, output_size)\n",
        "\n",
        "        self.dropout = nn.Dropout(0.1); # 10% dropout rate\n",
        "        self.softmax = nn.LogSoftmax(dim=1)\n",
        "\n",
        "    def forward(self, category, input, hidden):\n",
        "        input_combined = torch.cat((category, input, hidden), 1)\n",
        "        hidden = self.i2h(input_combined)\n",
        "        output = self.i2o(input_combined)\n",
        "        output_combined = torch.cat((hidden, output), 1)\n",
        "        output = self.o2o(output_combined)\n",
        "        output = self.dropout(output)\n",
        "        output = self.softmax(output)\n",
        "        return output, hidden\n",
        "\n",
        "    def initHidden(self):\n",
        "        return torch.zeros(1, self.hidden_size)\n"
      ],
      "metadata": {
        "id": "FtU2oMYGxqlC"
      },
      "execution_count": 14,
      "outputs": []
    },
    {
      "cell_type": "markdown",
      "source": [
        "Now, helper functions for training the network:"
      ],
      "metadata": {
        "id": "vbbl_MFf3Jj7"
      }
    },
    {
      "cell_type": "code",
      "source": [
        "import random\n",
        "\n",
        "# sample random item from a list\n",
        "def randomChoice(l):\n",
        "    return l[random.randint(0, len(l)-1)]\n",
        "\n",
        "# get a random category and line\n",
        "def randomTrainingPair():\n",
        "    category = randomChoice(all_categories)\n",
        "    line = randomChoice(category_lines[category])\n",
        "    return category, line"
      ],
      "metadata": {
        "id": "lXtbb4ER3RcH"
      },
      "execution_count": 15,
      "outputs": []
    },
    {
      "cell_type": "code",
      "source": [
        "# One-hot vector for category\n",
        "def categoryTensor(category):\n",
        "    li = all_categories.index(category)\n",
        "    tensor = torch.zeros(1, n_categories)\n",
        "    tensor[0][li] = 1\n",
        "    return tensor\n",
        "\n",
        "# One-hot matrix of first to last letters (not including EOS) for input\n",
        "def inputTensor(line):\n",
        "    tensor = torch.zeros(len(line), 1, n_letters)\n",
        "    for li in range(len(line)):\n",
        "        letter = line[li]\n",
        "        tensor[li][0][all_letters.find(letter)] = 1\n",
        "    return tensor\n",
        "\n",
        "# ``LongTensor`` of second letter to end (EOS) for target\n",
        "def targetTensor(line):\n",
        "    letter_indexes = [all_letters.find(line[li]) for li in range(1, len(line))]\n",
        "    letter_indexes.append(n_letters - 1) # EOS\n",
        "    return torch.LongTensor(letter_indexes)\n",
        "\n",
        "# Make category, input, and target tensors from a random category, line pair\n",
        "def randomTrainingExample():\n",
        "    category, line = randomTrainingPair()\n",
        "    category_tensor = categoryTensor(category)\n",
        "    input_line_tensor = inputTensor(line)\n",
        "    target_line_tensor = targetTensor(line)\n",
        "    return category_tensor, input_line_tensor, target_line_tensor"
      ],
      "metadata": {
        "id": "8BYTCEM45KCT"
      },
      "execution_count": 51,
      "outputs": []
    },
    {
      "cell_type": "markdown",
      "source": [
        "Then, the code to train the network is below:"
      ],
      "metadata": {
        "id": "HZsRcOMGSI8j"
      }
    },
    {
      "cell_type": "code",
      "source": [
        "criterion = nn.NLLLoss()\n",
        "\n",
        "learning_rate = 0.0005\n",
        "\n",
        "def train(category_tensor, input_line_tensor, target_line_tensor):\n",
        "    target_line_tensor.unsqueeze_(-1)\n",
        "    hidden = rnn.initHidden()\n",
        "\n",
        "    rnn.zero_grad()\n",
        "\n",
        "    loss = torch.Tensor([0]) # you can also just simply use ``loss = 0``\n",
        "\n",
        "    for i in range(input_line_tensor.size(0)):\n",
        "        output, hidden = rnn(category_tensor, input_line_tensor[i], hidden)\n",
        "        l = criterion(output, target_line_tensor[i])\n",
        "        loss += l\n",
        "\n",
        "    loss.backward()\n",
        "\n",
        "    for p in rnn.parameters():\n",
        "        p.data.add_(p.grad.data, alpha=-learning_rate)\n",
        "\n",
        "    return output, loss.item() / input_line_tensor.size(0)"
      ],
      "metadata": {
        "id": "zqfUn2Z7SMZ7"
      },
      "execution_count": 52,
      "outputs": []
    },
    {
      "cell_type": "code",
      "source": [
        "import time\n",
        "import math\n",
        "\n",
        "def timeSince(since):\n",
        "    now = time.time()\n",
        "    s = now - since\n",
        "    m = math.floor(s/60)\n",
        "    s -= m * 60\n",
        "    return '%dm %ds' % (m, s)\n",
        "\n",
        "rnn = RNN(n_letters, 128, n_letters) # 128 hidden units, input and output are the number of possibilities for next letter\n",
        "\n",
        "n_iters = 100000\n",
        "print_every = 5000\n",
        "plot_every = 500\n",
        "all_losses = []\n",
        "total_loss = 0 # Reset every ``plot_every`` ``iters``\n",
        "\n",
        "start = time.time()\n",
        "\n",
        "for iter in range(1, n_iters + 1):\n",
        "    output, loss = train(*randomTrainingExample())\n",
        "    total_loss += loss\n",
        "\n",
        "    if iter % print_every == 0:\n",
        "        print('%s (%d %d%%) %.4f' % (timeSince(start), iter, iter / n_iters * 100, loss))\n",
        "\n",
        "    if iter % plot_every == 0:\n",
        "        all_losses.append(total_loss / plot_every)\n",
        "        total_loss = 0"
      ],
      "metadata": {
        "colab": {
          "base_uri": "https://localhost:8080/"
        },
        "id": "qhj30viXYh-b",
        "outputId": "fe0b5b5f-d55d-4856-fca7-5afeb423c00b"
      },
      "execution_count": 53,
      "outputs": [
        {
          "output_type": "stream",
          "name": "stdout",
          "text": [
            "0m 14s (5000 5%) 3.1826\n",
            "0m 28s (10000 10%) 2.1885\n",
            "0m 44s (15000 15%) 1.8627\n",
            "1m 0s (20000 20%) 2.7002\n",
            "1m 17s (25000 25%) 2.2111\n",
            "1m 32s (30000 30%) 2.5843\n",
            "1m 47s (35000 35%) 2.0613\n",
            "2m 4s (40000 40%) 2.5187\n",
            "2m 20s (45000 45%) 1.7247\n",
            "2m 36s (50000 50%) 1.8769\n",
            "2m 50s (55000 55%) 2.3004\n",
            "3m 5s (60000 60%) 2.7374\n",
            "3m 19s (65000 65%) 1.4752\n",
            "3m 35s (70000 70%) 2.3625\n",
            "3m 49s (75000 75%) 1.1692\n",
            "4m 5s (80000 80%) 2.1620\n",
            "4m 21s (85000 85%) 2.9157\n",
            "4m 36s (90000 90%) 2.7046\n",
            "4m 50s (95000 95%) 3.2794\n",
            "5m 5s (100000 100%) 2.5484\n"
          ]
        }
      ]
    },
    {
      "cell_type": "markdown",
      "source": [
        "To plot losses:"
      ],
      "metadata": {
        "id": "02PQZrmpdFiv"
      }
    },
    {
      "cell_type": "code",
      "source": [
        "import matplotlib.pyplot as plt\n",
        "\n",
        "plt.figure()\n",
        "plt.plot(all_losses)"
      ],
      "metadata": {
        "colab": {
          "base_uri": "https://localhost:8080/",
          "height": 447
        },
        "id": "WNssMTeRdHkA",
        "outputId": "bd652f52-e19e-441d-e83c-6de95844a3d6"
      },
      "execution_count": 54,
      "outputs": [
        {
          "output_type": "execute_result",
          "data": {
            "text/plain": [
              "[<matplotlib.lines.Line2D at 0x7e7c0c5eb1c0>]"
            ]
          },
          "metadata": {},
          "execution_count": 54
        },
        {
          "output_type": "display_data",
          "data": {
            "text/plain": [
              "<Figure size 640x480 with 1 Axes>"
            ],
            "image/png": "[encoded data removed]"
          },
          "metadata": {}
        }
      ]
    },
    {
      "cell_type": "markdown",
      "source": [
        "To try out some samples:"
      ],
      "metadata": {
        "id": "wsIscwVOdN-8"
      }
    },
    {
      "cell_type": "code",
      "source": [
        "max_length = 20\n",
        "\n",
        "# sample from a category, and starting letter\n",
        "def sample(category, start_letter='A'):\n",
        "    with torch.no_grad():\n",
        "        category_tensor = categoryTensor(category)\n",
        "        input = inputTensor(start_letter)\n",
        "        hidden = rnn.initHidden()\n",
        "\n",
        "        output_name = start_letter\n",
        "\n",
        "        for i in range(max_length):\n",
        "            output, hidden = rnn(category_tensor, input[0], hidden)\n",
        "            topv, topi = output.topk(1)\n",
        "            topi = topi[0][0]\n",
        "            if topi == n_letters - 1:\n",
        "                break\n",
        "            else:\n",
        "                letter = all_letters[topi]\n",
        "                output_name += letter\n",
        "\n",
        "            input = inputTensor(letter)\n",
        "\n",
        "        return output_name\n",
        "\n",
        "# get various samples\n",
        "def samples(category, start_letters='ABC'):\n",
        "    for start_letter in start_letters:\n",
        "        print(sample(category, start_letter))\n",
        "\n",
        "samples('Russian', 'RUS')\n",
        "\n",
        "samples('German', 'GER')\n",
        "\n",
        "samples('Spanish', 'SPA')\n",
        "\n",
        "samples('Chinese', 'CHX')"
      ],
      "metadata": {
        "colab": {
          "base_uri": "https://localhost:8080/"
        },
        "id": "_hrkJT9idPl_",
        "outputId": "2b216d69-9a00-4116-dd3f-1dae00979078"
      },
      "execution_count": 57,
      "outputs": [
        {
          "output_type": "stream",
          "name": "stdout",
          "text": [
            "Rovakov\n",
            "Uakien\n",
            "Shilovev\n",
            "Gerter\n",
            "Ering\n",
            "Rour\n",
            "Salla\n",
            "Para\n",
            "Arane\n",
            "Chan\n",
            "Hou\n",
            "Xue\n"
          ]
        }
      ]
    }
  ]
}